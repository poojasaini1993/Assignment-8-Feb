{
 "cells": [
  {
   "cell_type": "code",
   "execution_count": 1,
   "id": "ccf1f1ee-c355-41e5-be46-70a4acaaa187",
   "metadata": {},
   "outputs": [],
   "source": [
    "## Q1. What is Abstraction in OOps? Explain with an example.\n",
    "## In simple terms, abstraction “displays” only the relevant attributes of objects and “hides” the unnecessary details.\n",
    "## Ex:- You can drive a car without knowing how the internal combustion engine works."
   ]
  },
  {
   "cell_type": "code",
   "execution_count": 2,
   "id": "280a3503-2fb5-4dd8-b39c-9f110ccb548b",
   "metadata": {},
   "outputs": [],
   "source": [
    "## Q2. Differentiate between Abstraction and Encapsulation. Explain with an example.\n",
    "## Abstraction is hiding the details and implementation of the code. Encapsulation is hiding the data and controlling the visibility of the code.Abstraction is a design level process and it is used to reduce the complexity at the designing stage of a project. Encapsulation is an implementation level process, and it is used to provide privacy and maintain control over the transparency of data at the implementation stage of a project.\n"
   ]
  },
  {
   "cell_type": "code",
   "execution_count": 3,
   "id": "ccb5cbf7-3abc-4cc5-b287-869d06b1f011",
   "metadata": {},
   "outputs": [],
   "source": [
    "## Q3. What is abc module in python? Why is it used?\n",
    "## First of all abc stands for abstract base class.An abstract base class is a class that is used as a blueprint for other classes. Abstract base classes are a powerful feature in Python since they help you define a blueprint for other classes that may have something in common.This is done by @abc.abstractmethod decorator."
   ]
  },
  {
   "cell_type": "code",
   "execution_count": 4,
   "id": "f92efe92-8c05-4c87-9990-459ff4b6dda1",
   "metadata": {},
   "outputs": [],
   "source": [
    "## Q4. How can we achieve data abstraction?\n",
    "## In Python, abstraction can be achieved by having/using abstract classes and methods in our programs..Python provides the abc module to use the abstraction in the Python program"
   ]
  },
  {
   "cell_type": "code",
   "execution_count": null,
   "id": "68494981-74a7-40ba-a6b3-6a7f0113a2d2",
   "metadata": {},
   "outputs": [],
   "source": [
    "## Q5. Can we create an instance of an abstract class? Explain your answer.\n",
    "## Abstract classes are not complete, as they may have some methods that are not defined. So we cannot create an instance or object of an abstract class in Python.Abstract classes cannot be instantiated, but they can be subclassed. When an abstract class is subclassed, the subclass usually provides implementations for all of the abstract methods in its parent class. However, if it does not, then the subclass must also be declared abstract ."
   ]
  }
 ],
 "metadata": {
  "kernelspec": {
   "display_name": "Python 3 (ipykernel)",
   "language": "python",
   "name": "python3"
  },
  "language_info": {
   "codemirror_mode": {
    "name": "ipython",
    "version": 3
   },
   "file_extension": ".py",
   "mimetype": "text/x-python",
   "name": "python",
   "nbconvert_exporter": "python",
   "pygments_lexer": "ipython3",
   "version": "3.10.8"
  }
 },
 "nbformat": 4,
 "nbformat_minor": 5
}
